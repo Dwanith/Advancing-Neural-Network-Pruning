{
  "cells": [
    {
      "cell_type": "markdown",
      "metadata": {
        "id": "JXsgadvFiawx"
      },
      "source": [
        "Capstone Project\n",
        "\n",
        "Dwanith Venkat Girish"
      ]
    },
    {
      "cell_type": "markdown",
      "metadata": {
        "id": "6XB4unvjJP9l"
      },
      "source": [
        "Import all Packages/libraries"
      ]
    },
    {
      "cell_type": "code",
      "execution_count": null,
      "metadata": {
        "id": "GLofFnhiJOjX"
      },
      "outputs": [],
      "source": [
        "\n",
        "import torch.nn as nn\n",
        "import torchvision\n",
        "import torchvision.transforms as transforms\n",
        "import torch.optim as optim\n",
        "import sys"
      ]
    },
    {
      "cell_type": "markdown",
      "metadata": {
        "id": "4_qyXrv0JUZV"
      },
      "source": [
        "Import libraries from RL-Pruner code"
      ]
    },
    {
      "cell_type": "code",
      "execution_count": null,
      "metadata": {
        "colab": {
          "base_uri": "https://localhost:8080/"
        },
        "id": "GYwgRFNU-LF3",
        "outputId": "311cdbfe-fd04-4a5d-c251-088c547a048b"
      },
      "outputs": [
        {
          "name": "stdout",
          "output_type": "stream",
          "text": [
            "Mounted at /content/drive\n",
            "'/content/drive/My Drive/Capstone/RLPruner_CNN/assets/'\n",
            "'/content/drive/My Drive/Capstone/RLPruner_CNN/conf/'\n",
            "'/content/drive/My Drive/Capstone/RLPruner_CNN/models/'\n",
            "'/content/drive/My Drive/Capstone/RLPruner_CNN/pretrained_model/'\n",
            "'/content/drive/My Drive/Capstone/RLPruner_CNN/RLPruner-CNN/'\n",
            "'/content/drive/My Drive/Capstone/RLPruner_CNN/scripts/'\n",
            "'/content/drive/My Drive/Capstone/RLPruner_CNN/utils/'\n"
          ]
        }
      ],
      "source": [
        "\n",
        "sys.path.append('/content/drive/My Drive/Capstone/RLPruner_CNN')\n",
        "!ls -d \"/content/drive/My Drive/Capstone/RLPruner_CNN\"/*/"
      ]
    },
    {
      "cell_type": "code",
      "execution_count": null,
      "metadata": {
        "colab": {
          "base_uri": "https://localhost:8080/",
          "height": 1000
        },
        "collapsed": true,
        "id": "lKWdviJVN3rI",
        "outputId": "d630c770-f119-4d33-cf40-3cad5a1aff36"
      },
      "outputs": [],
      "source": [
        "\n",
        "#Installing requirements.txt (Requirements of the paper)\n",
        "#Only run once -> restart session (automatic) -> run the cell up and below this only\n",
        "\n",
        "\n",
        "!pip install -r \"/content/drive/My Drive/Capstone/RLPruner_CNN/requirements.txt\"\n",
        "\n",
        "\n",
        "\n",
        "!pip install thop\n"
      ]
    },
    {
      "cell_type": "markdown",
      "metadata": {
        "id": "RGrsqO5ECSRQ"
      },
      "source": [
        "Phase 1: ResNet18 model training, model saved in pretrained_model.py"
      ]
    },
    {
      "cell_type": "code",
      "execution_count": null,
      "metadata": {
        "colab": {
          "base_uri": "https://localhost:8080/"
        },
        "collapsed": true,
        "id": "J4liKnCwZ3VR",
        "outputId": "3e9e3139-bf3f-4b3d-9418-a31f8a7a856e"
      },
      "outputs": [
        {
          "name": "stdout",
          "output_type": "stream",
          "text": [
            "python3: can't open file '/content/drive/My Drive/Capstone/RLPruner_CNN/RLPruner-CNN/train.py': [Errno 2] No such file or directory\n"
          ]
        }
      ],
      "source": [
        "\n",
        "\n",
        "!python \"/content/drive/My Drive/Capstone/RLPruner_CNN/RLPruner-CNN/train.py\" \\\n",
        "        --model resnet18 \\\n",
        "        --dataset cifar100 \\\n",
        "        --device cuda\n"
      ]
    },
    {
      "cell_type": "markdown",
      "metadata": {
        "id": "gijXKbwP6MOL"
      },
      "source": [
        "Phase 2: Resnet 34, 50, 101, 152."
      ]
    },
    {
      "cell_type": "code",
      "execution_count": null,
      "metadata": {
        "colab": {
          "base_uri": "https://localhost:8080/"
        },
        "id": "rRDQWi0M6Liw",
        "outputId": "61d4fe77-b46b-4505-c5d4-0ed25f6ac6e9"
      },
      "outputs": [
        {
          "name": "stdout",
          "output_type": "stream",
          "text": [
            "Start with random seed: 1\n",
            "Files already downloaded and verified\n",
            "Files already downloaded and verified\n",
            "Training: 100% 250/250 [43:08<00:00, 10.35s/epoch, Train loss=0.00664, Best top1 acc=0.778, Top1 acc=0.775]\n",
            "Pretrained model saved at pretrained_model/resnet34_cifar100_pretrained.pth\n"
          ]
        }
      ],
      "source": [
        "!python \"/content/drive/My Drive/Capstone/RLPruner_CNN/RLPruner-CNN/train.py\" \\\n",
        "        --model resnet34 \\\n",
        "        --dataset cifar100 \\\n",
        "        --device cuda\n"
      ]
    },
    {
      "cell_type": "code",
      "execution_count": null,
      "metadata": {
        "colab": {
          "base_uri": "https://localhost:8080/"
        },
        "id": "RnToAl0a8m0T",
        "outputId": "c5ad8000-cfb0-4c51-809d-33e7ef2c8e92"
      },
      "outputs": [
        {
          "name": "stdout",
          "output_type": "stream",
          "text": [
            "\u001b[34m\u001b[1mwandb\u001b[0m: \u001b[33mWARNING\u001b[0m Tried to auto resume run with id 1745609914 but id 1745614065 is set.\n",
            "Start with random seed: 1\n",
            "Files already downloaded and verified\n",
            "Files already downloaded and verified\n",
            "Training: 100% 250/250 [1:21:33<00:00, 19.58s/epoch, Train loss=0.00725, Best top1 acc=0.793, Top1 acc=0.791]\n",
            "Pretrained model saved at pretrained_model/resnet50_cifar100_pretrained.pth\n"
          ]
        }
      ],
      "source": [
        "#Resnet 50\n",
        "\n",
        "!python \"/content/drive/My Drive/Capstone/RLPruner_CNN/RLPruner-CNN/train.py\" \\\n",
        "        --model resnet50 \\\n",
        "        --dataset cifar100 \\\n",
        "        --device cuda\n"
      ]
    },
    {
      "cell_type": "code",
      "execution_count": null,
      "metadata": {
        "colab": {
          "base_uri": "https://localhost:8080/"
        },
        "id": "EbolfGKv8u6Y",
        "outputId": "6143541c-57fa-493b-f2f4-fcf5a068d073"
      },
      "outputs": [
        {
          "name": "stdout",
          "output_type": "stream",
          "text": [
            "Start with random seed: 1\n",
            "100% 169M/169M [00:01<00:00, 91.8MB/s]\n",
            "Training: 100% 250/250 [2:10:38<00:00, 31.35s/epoch, Train loss=0.00623, Best top1 acc=0.802, Top1 acc=0.8]\n",
            "Pretrained model saved at pretrained_model/resnet101_cifar100_pretrained.pth\n"
          ]
        }
      ],
      "source": [
        "#Resnet101\n",
        "\n",
        "!python \"/content/drive/My Drive/Capstone/RLPruner_CNN/RLPruner-CNN/train.py\" \\\n",
        "        --model resnet101 \\\n",
        "        --dataset cifar100 \\\n",
        "        --device cuda\n"
      ]
    },
    {
      "cell_type": "code",
      "execution_count": null,
      "metadata": {
        "colab": {
          "base_uri": "https://localhost:8080/"
        },
        "id": "JoYoOdS280Zf",
        "outputId": "526b11dc-42b2-490b-df16-57f4db832cc7"
      },
      "outputs": [
        {
          "name": "stdout",
          "output_type": "stream",
          "text": [
            "\u001b[34m\u001b[1mwandb\u001b[0m: \u001b[33mWARNING\u001b[0m Ignoring ID 1745812671 loaded due to resume='auto' because the run ID is set to 1745822773.\n",
            "Start with random seed: 1\n",
            "Training: 100% 250/250 [3:04:28<00:00, 44.28s/epoch, Train loss=0.00653, Best top1 acc=0.802, Top1 acc=0.802]\n",
            "Pretrained model saved at pretrained_model/resnet152_cifar100_pretrained.pth\n"
          ]
        }
      ],
      "source": [
        "#Resnet152\n",
        "\n",
        "\n",
        "!python \"/content/drive/My Drive/Capstone/RLPruner_CNN/RLPruner-CNN/train.py\" \\\n",
        "        --model resnet152 \\\n",
        "        --dataset cifar100 \\\n",
        "        --device cuda\n"
      ]
    },
    {
      "cell_type": "code",
      "execution_count": null,
      "metadata": {
        "colab": {
          "base_uri": "https://localhost:8080/",
          "height": 393
        },
        "collapsed": true,
        "id": "3ewv7o_eognP",
        "outputId": "439633e1-652b-4610-ee2b-bcf7f4414d71"
      },
      "outputs": [
        {
          "ename": "ModuleNotFoundError",
          "evalue": "No module named 'models'",
          "output_type": "error",
          "traceback": [
            "\u001b[0;31m---------------------------------------------------------------------------\u001b[0m",
            "\u001b[0;31mModuleNotFoundError\u001b[0m                       Traceback (most recent call last)",
            "\u001b[0;32m<ipython-input-1-90cc55f30846>\u001b[0m in \u001b[0;36m<cell line: 0>\u001b[0;34m()\u001b[0m\n\u001b[1;32m      2\u001b[0m \u001b[0;32mimport\u001b[0m \u001b[0mtorchvision\u001b[0m\u001b[0;34m\u001b[0m\u001b[0;34m\u001b[0m\u001b[0m\n\u001b[1;32m      3\u001b[0m \u001b[0;32mimport\u001b[0m \u001b[0mtorchvision\u001b[0m\u001b[0;34m.\u001b[0m\u001b[0mtransforms\u001b[0m \u001b[0;32mas\u001b[0m \u001b[0mtransforms\u001b[0m\u001b[0;34m\u001b[0m\u001b[0;34m\u001b[0m\u001b[0m\n\u001b[0;32m----> 4\u001b[0;31m \u001b[0;32mfrom\u001b[0m \u001b[0mmodels\u001b[0m \u001b[0;32mimport\u001b[0m \u001b[0mresnet\u001b[0m\u001b[0;34m\u001b[0m\u001b[0;34m\u001b[0m\u001b[0m\n\u001b[0m\u001b[1;32m      5\u001b[0m \u001b[0;32mimport\u001b[0m \u001b[0mtorch\u001b[0m\u001b[0;34m.\u001b[0m\u001b[0mnn\u001b[0m\u001b[0;34m.\u001b[0m\u001b[0mfunctional\u001b[0m \u001b[0;32mas\u001b[0m \u001b[0mF\u001b[0m\u001b[0;34m\u001b[0m\u001b[0;34m\u001b[0m\u001b[0m\n\u001b[1;32m      6\u001b[0m \u001b[0;34m\u001b[0m\u001b[0m\n",
            "\u001b[0;31mModuleNotFoundError\u001b[0m: No module named 'models'",
            "",
            "\u001b[0;31m---------------------------------------------------------------------------\u001b[0;32m\nNOTE: If your import is failing due to a missing package, you can\nmanually install dependencies using either !pip or !apt.\n\nTo view examples of installing some common dependencies, click the\n\"Open Examples\" button below.\n\u001b[0;31m---------------------------------------------------------------------------\u001b[0m\n"
          ]
        }
      ],
      "source": [
        "import torch\n",
        "import torchvision\n",
        "import torchvision.transforms as transforms\n",
        "from models import resnet\n",
        "import torch.nn.functional as F\n",
        "\n",
        "\n",
        "model_path = \"/content/drive/My Drive/Capstone/RLPruner_CNN/pretrained_model/resnet18_cifar100_pretrained.pth\"\n",
        "model = torch.load(model_path, weights_only=False).cuda()\n",
        "model.eval()\n",
        "\n",
        "\n",
        "transform = transforms.Compose([\n",
        "    transforms.ToTensor(),\n",
        "    transforms.Normalize((0.5071, 0.4867, 0.4408), (0.2675, 0.2565, 0.2761))\n",
        "])\n",
        "\n",
        "testset = torchvision.datasets.CIFAR100(root='./data', train=False, download=True, transform=transform)\n",
        "testloader = torch.utils.data.DataLoader(testset, batch_size=100, shuffle=False)\n",
        "\n",
        "\n",
        "correct, total = 0, 0\n",
        "with torch.no_grad():\n",
        "    for images, labels in testloader:\n",
        "        images, labels = images.cuda(), labels.cuda()\n",
        "        outputs = model(images)\n",
        "        _, predicted = torch.max(outputs, 1)\n",
        "        total += labels.size(0)\n",
        "        correct += (predicted == labels).sum().item()\n",
        "\n",
        "print(f\"Top-1 Accuracy: {100 * correct / total:.2f}%\")\n"
      ]
    },
    {
      "cell_type": "markdown",
      "metadata": {
        "id": "UnZCUwUJocM0"
      },
      "source": [
        "Performance metrics of Pre-trained ResNet18"
      ]
    },
    {
      "cell_type": "markdown",
      "metadata": {
        "id": "ovjEf86wDabo"
      },
      "source": [
        "Compressing RESNET18 (RLPruner)"
      ]
    },
    {
      "cell_type": "code",
      "execution_count": null,
      "metadata": {
        "colab": {
          "base_uri": "https://localhost:8080/"
        },
        "id": "fQ_f0uTaMiVI",
        "outputId": "8a6ef060-d119-40a6-c6aa-77c7122245f9"
      },
      "outputs": [
        {
          "name": "stdout",
          "output_type": "stream",
          "text": [
            "python3: can't open file '/content/drive/My Drive/Capstone/RLPruner_CNN/compress.py': [Errno 2] No such file or directory\n"
          ]
        }
      ],
      "source": [
        "!python \"/content/drive/My Drive/Capstone/RLPruner_CNN/compress.py\" \\\n",
        "        --model resnet18 \\\n",
        "        --dataset cifar100 \\\n",
        "        --device cuda \\\n",
        "        --prune_filter_ratio 0.2 \\\n",
        "        --prune_strategy taylor \\\n",
        "        --Q_FLOP_coef 0.2 \\\n",
        "        --Q_Para_coef 0.0 \\\n",
        "        --pretrained_pth \"/content/drive/My Drive/Capstone/RLPruner_CNN/pretrained_model/resnet18_cifar100_pretrained.pth\"\n"
      ]
    },
    {
      "cell_type": "markdown",
      "metadata": {
        "id": "_9fp34gGLCoI"
      },
      "source": [
        "L1-Norm pruning method"
      ]
    },
    {
      "cell_type": "code",
      "execution_count": null,
      "metadata": {
        "colab": {
          "base_uri": "https://localhost:8080/"
        },
        "id": "WWpioFr0LFk2",
        "outputId": "57c82b77-d89c-45ec-8d1d-64de818c4047"
      },
      "outputs": [
        {
          "name": "stdout",
          "output_type": "stream",
          "text": [
            "Pruned Model Accuracy: 50.51%\n"
          ]
        }
      ],
      "source": [
        "\n",
        "\n",
        "def l1_prune(model, prune_ratio=0.2):\n",
        "    for name, module in model.named_modules():\n",
        "        if isinstance(module, nn.Conv2d):\n",
        "            weight = module.weight.data.abs().clone()\n",
        "            l1_norm = weight.view(weight.size(0), -1).sum(dim=1)\n",
        "            num_prune = int(prune_ratio * l1_norm.size(0))\n",
        "            if num_prune == 0:\n",
        "                continue\n",
        "            prune_indices = l1_norm.argsort()[:num_prune]\n",
        "            module.weight.data[prune_indices] = 0\n",
        "\n",
        "\n",
        "\n",
        "transform_test = transforms.Compose([\n",
        "    transforms.ToTensor(),\n",
        "    transforms.Normalize((0.5, 0.5, 0.5), (0.5, 0.5, 0.5)),\n",
        "])\n",
        "\n",
        "test_set = torchvision.datasets.CIFAR100(\n",
        "    root='./data', train=False, download=True, transform=transform_test)\n",
        "\n",
        "test_loader = torch.utils.data.DataLoader(\n",
        "    test_set, batch_size=128, shuffle=False, num_workers=2)\n",
        "\n",
        "\n",
        "\n",
        "def evaluate(model, test_loader):\n",
        "    model.eval()\n",
        "    correct = 0\n",
        "    total = 0\n",
        "    with torch.no_grad():\n",
        "        for images, labels in test_loader:\n",
        "            images, labels = images.cuda(), labels.cuda()\n",
        "            outputs = model(images)\n",
        "            _, predicted = outputs.max(1)\n",
        "            total += labels.size(0)\n",
        "            correct += predicted.eq(labels).sum().item()\n",
        "    return 100 * correct / total\n",
        "\n",
        "model_path = \"/content/drive/My Drive/Capstone/RLPruner_CNN/pretrained_model/resnet18_cifar100_pretrained.pth\"\n",
        "model = torch.load(model_path, weights_only=False).cuda()\n",
        "model.eval()\n",
        "\n",
        "\n",
        "l1_prune(model, prune_ratio=0.10)\n",
        "test_accuracy = evaluate(model, test_loader)\n",
        "print(f\"Pruned Model Accuracy: {test_accuracy:.2f}%\")\n"
      ]
    },
    {
      "cell_type": "markdown",
      "metadata": {
        "id": "y81l74krMbk9"
      },
      "source": [
        "Resnet18 (fine-tuning) CIFAR100"
      ]
    },
    {
      "cell_type": "code",
      "execution_count": null,
      "metadata": {
        "colab": {
          "base_uri": "https://localhost:8080/"
        },
        "collapsed": true,
        "id": "HHmAiOEbLGC5",
        "outputId": "12e5ef1b-568e-4be0-e3ac-10cce9bba3a1"
      },
      "outputs": [
        {
          "name": "stdout",
          "output_type": "stream",
          "text": [
            "Epoch 1, Loss: 1811.854\n",
            "Epoch 2, Loss: 1626.337\n",
            "Epoch 3, Loss: 1598.770\n",
            "Epoch 4, Loss: 1595.346\n",
            "Epoch 5, Loss: 1595.253\n",
            "Epoch 6, Loss: 1550.093\n",
            "Epoch 7, Loss: 1544.336\n",
            "Epoch 8, Loss: 1539.268\n",
            "Epoch 9, Loss: 1543.034\n",
            "Epoch 10, Loss: 1538.996\n",
            "Epoch 11, Loss: 1512.370\n",
            "Epoch 12, Loss: 1506.753\n",
            "Epoch 13, Loss: 1495.103\n",
            "Epoch 14, Loss: 1487.314\n",
            "Epoch 15, Loss: 1482.535\n",
            "Epoch 16, Loss: 1447.878\n",
            "Epoch 17, Loss: 1428.705\n",
            "Epoch 18, Loss: 1404.370\n",
            "Epoch 19, Loss: 1380.850\n",
            "Epoch 20, Loss: 1351.202\n",
            "Epoch 21, Loss: 1290.638\n",
            "Epoch 22, Loss: 1265.792\n",
            "Epoch 23, Loss: 1244.825\n",
            "Epoch 24, Loss: 1230.174\n",
            "Epoch 25, Loss: 1210.530\n",
            "Epoch 26, Loss: 1162.116\n",
            "Epoch 27, Loss: 1143.409\n",
            "Epoch 28, Loss: 1129.547\n",
            "Epoch 29, Loss: 1113.004\n",
            "Epoch 30, Loss: 1104.940\n",
            "Epoch 31, Loss: 1066.700\n",
            "Epoch 32, Loss: 1054.670\n",
            "Epoch 33, Loss: 1042.835\n",
            "Epoch 34, Loss: 1029.963\n",
            "Epoch 35, Loss: 1021.312\n",
            "Epoch 36, Loss: 992.973\n",
            "Epoch 37, Loss: 982.644\n",
            "Epoch 38, Loss: 973.665\n",
            "Epoch 39, Loss: 964.746\n",
            "Epoch 40, Loss: 953.119\n",
            "Fine-tuned Accuracy: 36.44%\n"
          ]
        }
      ],
      "source": [
        "transform_train = transforms.Compose([\n",
        "    transforms.RandomHorizontalFlip(),\n",
        "    transforms.RandomCrop(32, padding=4),\n",
        "    transforms.ToTensor(),\n",
        "    transforms.Normalize((0.5, 0.5, 0.5), (0.5, 0.5, 0.5)),\n",
        "])\n",
        "\n",
        "train_set = torchvision.datasets.CIFAR100(\n",
        "    root='./data', train=True, download=True, transform=transform_train)\n",
        "\n",
        "train_loader = torch.utils.data.DataLoader(\n",
        "    train_set, batch_size=128, shuffle=True, num_workers=2)\n",
        "\n",
        "\n",
        "\n",
        "criterion = nn.CrossEntropyLoss()\n",
        "optimizer = optim.SGD(model.parameters(), lr=0.01, weight_decay=5e-4, momentum=0.9)\n",
        "scheduler = torch.optim.lr_scheduler.StepLR(optimizer, step_size=5, gamma=0.5)\n",
        "\n",
        "model.train()\n",
        "for epoch in range(40):  # fine-tune for 40 epochs\n",
        "    running_loss = 0.0\n",
        "    for images, labels in train_loader:\n",
        "        images, labels = images.cuda(), labels.cuda()\n",
        "        optimizer.zero_grad()\n",
        "        outputs = model(images)\n",
        "        loss = criterion(outputs, labels)\n",
        "        loss.backward()\n",
        "        optimizer.step()\n",
        "        running_loss += loss.item()\n",
        "    scheduler.step()\n",
        "    print(f\"Epoch {epoch+1}, Loss: {running_loss:.3f}\")\n",
        "\n",
        "test_accuracy = evaluate(model, test_loader)\n",
        "print(f\"Fine-tuned Accuracy: {test_accuracy:.2f}%\")\n",
        "\n"
      ]
    }
  ],
  "metadata": {
    "colab": {
      "machine_shape": "hm",
      "provenance": []
    },
    "kernelspec": {
      "display_name": "Python (myenv)",
      "language": "python",
      "name": "myenv"
    },
    "language_info": {
      "codemirror_mode": {
        "name": "ipython",
        "version": 3
      },
      "file_extension": ".py",
      "mimetype": "text/x-python",
      "name": "python",
      "nbconvert_exporter": "python",
      "pygments_lexer": "ipython3",
      "version": "3.6.8"
    }
  },
  "nbformat": 4,
  "nbformat_minor": 0
}
